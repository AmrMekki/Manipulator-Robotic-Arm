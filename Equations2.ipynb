{
 "cells": [
  {
   "cell_type": "code",
   "execution_count": 1,
   "metadata": {},
   "outputs": [],
   "source": [
    "import math"
   ]
  },
  {
   "cell_type": "code",
   "execution_count": 2,
   "metadata": {},
   "outputs": [],
   "source": [
    "L1 = 18 #cm\n",
    "L2 = 30"
   ]
  },
  {
   "cell_type": "code",
   "execution_count": 27,
   "metadata": {},
   "outputs": [],
   "source": [
    "def FWD(theta1, theta2, theta3):\n",
    "    theta1 = theta1 * 3.1415 / 180\n",
    "    theta2 = theta2 * 3.1415 / 180\n",
    "    theta3 = theta3 * 3.1415 / 180\n",
    "    x = L2 * math.cos(theta3)\n",
    "    y = L2 * math.sin(theta3)\n",
    "    z = L1 * math.sin(theta1) + L2 * math.sin(theta1 - theta2)\n",
    "    print(x,y,z)"
   ]
  },
  {
   "cell_type": "code",
   "execution_count": null,
   "metadata": {},
   "outputs": [],
   "source": []
  },
  {
   "cell_type": "code",
   "execution_count": 42,
   "metadata": {},
   "outputs": [
    {
     "name": "stdout",
     "output_type": "stream",
     "text": [
      "30.0 0.0 47.99999969095124\n"
     ]
    }
   ],
   "source": [
    "FWD(90,240+120,0)"
   ]
  },
  {
   "cell_type": "code",
   "execution_count": 54,
   "metadata": {},
   "outputs": [],
   "source": [
    "def INV(x,y,z):\n",
    "    r = math.sqrt(math.pow(x,2) + math.pow(y,2))\n",
    "    D = (z - L1)/ L2\n",
    "    theta1 = 90\n",
    "    theta2 = math.atan2(math.sqrt(1 - math.pow(D,2)), D)\n",
    "    theta3 = math.atan2(y,x)\n",
    "    theta2 = ( theta2 * 180 / 3.1415 ) - 120 \n",
    "    theta3 = theta3 * 180 / 3.1415 \n",
    "    print(theta1, theta2, theta3)\n"
   ]
  },
  {
   "cell_type": "code",
   "execution_count": 57,
   "metadata": {},
   "outputs": [
    {
     "name": "stdout",
     "output_type": "stream",
     "text": [
      "90 6.873639473459349 0.0\n"
     ]
    }
   ],
   "source": [
    "INV(30,0,0)"
   ]
  },
  {
   "cell_type": "code",
   "execution_count": 58,
   "metadata": {},
   "outputs": [
    {
     "data": {
      "text/plain": [
       "121.26417442921878"
      ]
     },
     "execution_count": 58,
     "metadata": {},
     "output_type": "execute_result"
    }
   ],
   "source": [
    "math.sqrt(math.pow(129-137,2) + math.pow(197-76,2))"
   ]
  },
  {
   "attachments": {},
   "cell_type": "markdown",
   "metadata": {},
   "source": [
    "121.26 pixel is 12.5cms"
   ]
  },
  {
   "cell_type": "code",
   "execution_count": 60,
   "metadata": {},
   "outputs": [
    {
     "data": {
      "text/plain": [
       "9.700800000000001"
      ]
     },
     "execution_count": 60,
     "metadata": {},
     "output_type": "execute_result"
    }
   ],
   "source": [
    "ratio = 121.26/12.5\n",
    "ratio"
   ]
  },
  {
   "attachments": {},
   "cell_type": "markdown",
   "metadata": {},
   "source": [
    "1cm : 9.7pixels"
   ]
  },
  {
   "cell_type": "code",
   "execution_count": 69,
   "metadata": {},
   "outputs": [
    {
     "data": {
      "text/plain": [
       "30"
      ]
     },
     "execution_count": 69,
     "metadata": {},
     "output_type": "execute_result"
    }
   ],
   "source": [
    "ratioHeight = 420-390\n",
    "ratioHeight #for rubber"
   ]
  },
  {
   "attachments": {},
   "cell_type": "markdown",
   "metadata": {},
   "source": [
    "1.1cm : 30pixels\n",
    "1cm : 27"
   ]
  },
  {
   "cell_type": "code",
   "execution_count": 67,
   "metadata": {},
   "outputs": [
    {
     "data": {
      "text/plain": [
       "617.9846276405264"
      ]
     },
     "execution_count": 67,
     "metadata": {},
     "output_type": "execute_result"
    }
   ],
   "source": [
    "val = math.sqrt(math.pow(184-600,2)+math.pow(2-459,2))\n",
    "val"
   ]
  },
  {
   "cell_type": "code",
   "execution_count": 68,
   "metadata": {},
   "outputs": [
    {
     "data": {
      "text/plain": [
       "22.888319542241717"
      ]
     },
     "execution_count": 68,
     "metadata": {},
     "output_type": "execute_result"
    }
   ],
   "source": [
    "val/27"
   ]
  }
 ],
 "metadata": {
  "kernelspec": {
   "display_name": "Python 3",
   "language": "python",
   "name": "python3"
  },
  "language_info": {
   "codemirror_mode": {
    "name": "ipython",
    "version": 3
   },
   "file_extension": ".py",
   "mimetype": "text/x-python",
   "name": "python",
   "nbconvert_exporter": "python",
   "pygments_lexer": "ipython3",
   "version": "3.9.13 (tags/v3.9.13:6de2ca5, May 17 2022, 16:36:42) [MSC v.1929 64 bit (AMD64)]"
  },
  "orig_nbformat": 4,
  "vscode": {
   "interpreter": {
    "hash": "e83f520a7929674eccf0ac68acce5e3c32e93178a10045b372d8f5e66f90ae45"
   }
  }
 },
 "nbformat": 4,
 "nbformat_minor": 2
}
